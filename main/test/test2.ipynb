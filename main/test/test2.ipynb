{
 "cells": [
  {
   "cell_type": "code",
   "execution_count": 1,
   "metadata": {},
   "outputs": [],
   "source": [
    "import gymnasium as gym\n",
    "import pandas as pd\n",
    "import numpy as np\n",
    "import pandas_ta as ta\n",
    "import gym_trading_env\n",
    "import math\n",
    "import random\n",
    "import datetime\n",
    "import matplotlib\n",
    "import matplotlib.pyplot as plt\n",
    "from collections import namedtuple, deque\n",
    "from gym_trading_env.downloader import download\n",
    "from itertools import count\n",
    "from time import time\n",
    "\n",
    "import torch\n",
    "import torch.nn as nn\n",
    "import torch.optim as optim\n",
    "import torch.nn.functional as F"
   ]
  },
  {
   "cell_type": "code",
   "execution_count": 2,
   "metadata": {},
   "outputs": [],
   "source": [
    "# Constants\n",
    "DIR = \"../../data\"\n",
    "SYMBOL = \"SUI/USDT\" # you can change to any other symbol\n",
    "TIMEFRAME = \"5m\" # 5m 15m 1h 4h 1d 1w 1M\n",
    "EXCHANGE = \"binance\" # bitget binance bitfinex bitmex bitstamp coinbasepro huobi kraken kucoin okex\n",
    "DISCORD_WEBHOOK_URL = \"\""
   ]
  },
  {
   "cell_type": "code",
   "execution_count": 3,
   "metadata": {},
   "outputs": [
    {
     "name": "stdout",
     "output_type": "stream",
     "text": [
      "SUI/USDT downloaded from binance and stored at ../../data/binance-SUIUSDT-5m.pkl\n"
     ]
    }
   ],
   "source": [
    "# Download BTC/USDT historical data from Binance and stores it to directory ./data/binance-BTCUSDT-1h.pkl\n",
    "download(exchange_names = [EXCHANGE],\n",
    "    symbols= [SYMBOL],\n",
    "    timeframe= TIMEFRAME,\n",
    "    dir = DIR,\n",
    "    since= datetime.datetime(year= 2023, month= 11, day= 11),\n",
    ")\n",
    "# Import your fresh data\n",
    "df = pd.read_pickle(DIR+\"/\"+EXCHANGE+\"-\"+SYMBOL.replace(\"/\",\"\")+\"-\"+TIMEFRAME+\".pkl\")"
   ]
  },
  {
   "cell_type": "code",
   "execution_count": 4,
   "metadata": {},
   "outputs": [],
   "source": [
    "# Handle more feature\n",
    "df['feature_open'] = df['open']\n",
    "df['feature_high'] = df['high']\n",
    "df['feature_low'] = df['low']\n",
    "df['feature_close'] = df['close']\n",
    "df['feature_volume'] = df['volume']\n",
    "df['feature_close_pct_change'] = df['close'].pct_change()\n",
    "df['feature_volume_pct_change'] = df['volume'].pct_change()\n",
    "df['feature_shift_1_close'] = df['close'].shift(1)\n",
    "df['feature_shift_1_open'] = df['open'].shift(1)\n",
    "df['feature_shift_1_volume'] = df['volume'].shift(1)\n",
    "df['feature_shift_2_close'] = df['close'].shift(2)\n",
    "df['feature_shift_2_open'] = df['open'].shift(2)\n",
    "df['feature_shift_2_volume'] = df['volume'].shift(2)\n",
    "df['feature_shift_3_close'] = df['close'].shift(3)\n",
    "df['feature_shift_3_open'] = df['open'].shift(3)\n",
    "df['feature_shift_3_volume'] = df['volume'].shift(3)\n",
    "df['feature_shift_4_close'] = df['close'].shift(4)\n",
    "df['feature_shift_4_open'] = df['open'].shift(4)\n",
    "df['feature_shift_4_volume'] = df['volume'].shift(4)\n",
    "df['feature_shift_5_close'] = df['close'].shift(5)\n",
    "df['feature_shift_5_open'] = df['open'].shift(5)\n",
    "df['feature_shift_5_volume'] = df['volume'].shift(5)\n",
    "df['feature_LONGLINE'] = df.ta.cdl_pattern(name=\"longline\")['CDL_LONGLINE']\n",
    "temp = df.ta.macd()\n",
    "df['feature_MACD'] = temp['MACD_12_26_9']   \n",
    "df['feature_MACD_SIGNAL'] = temp['MACDs_12_26_9']\n",
    "df['feature_MACD_HIST'] = temp['MACDh_12_26_9']\n",
    "df['feature_RSI'] = df.ta.rsi()\n",
    "df['feature_VWAP'] = df.ta.vwap()\n",
    "df['feature_MASSI'] = df.ta.massi()\n",
    "df['feature_ATR'] = df.ta.atr()\n",
    "df['feature_CKSPL'] = df.ta.cksp()['CKSPl_10_3_20']\n",
    "df['feature_CKSPS'] = df.ta.cksp()['CKSPs_10_3_20']\n",
    "df['feature_ADX'] = df.ta.adx()['ADX_14']\n",
    "df = df.drop(columns=['date_close'])\n",
    "df = df.dropna()"
   ]
  },
  {
   "cell_type": "code",
   "execution_count": 5,
   "metadata": {},
   "outputs": [],
   "source": [
    "def reward_func(history):\n",
    "    # history is a list of actions\n",
    "    # return a reward value\n",
    "    last_reward = history['reward', -1] # change + reward\n",
    "    reward_score = np.log(history[\"portfolio_valuation\", -1] / history[\"portfolio_valuation\", -2]) \n",
    "    if reward_score > 0:reward_score += reward_score * 0.5\n",
    "    else:reward_score -= reward_score * 0.1\n",
    "    return reward_score + last_reward"
   ]
  },
  {
   "cell_type": "code",
   "execution_count": 6,
   "metadata": {},
   "outputs": [
    {
     "name": "stdout",
     "output_type": "stream",
     "text": [
      "Using cpu device\n"
     ]
    }
   ],
   "source": [
    "# need to switch to custom env\n",
    "env = gym.make(\"TradingEnv\", df = df, positions = [-1,-0.8,-0.6,-0.4,-0.2,0,0.2,0.4,0.6,0.8,1], initial_position= 0, trading_fees = 0.02/100, reward_function = reward_func)\n",
    "\n",
    "env.unwrapped.add_metric('Position Changes', lambda history : np.sum(np.diff(history['position']) != 0) )\n",
    "env.unwrapped.add_metric('Episode Lenght', lambda history : len(history['position']) )\n",
    "env.unwrapped.add_metric('Win Rate', lambda history : np.sum(history['reward'] > 0) / len(history['reward']) )\n",
    "\n",
    "# set up matplotlib\n",
    "is_ipython = 'inline' in matplotlib.get_backend()\n",
    "if is_ipython:\n",
    "    from IPython import display\n",
    "\n",
    "plt.ion()\n",
    "\n",
    "# if GPU is to be used\n",
    "device = torch.device(\"cuda\" if torch.cuda.is_available() else \"cpu\")\n",
    "print(f\"Using {device} device\")"
   ]
  },
  {
   "cell_type": "code",
   "execution_count": 7,
   "metadata": {},
   "outputs": [],
   "source": [
    "Transition = namedtuple('Transition',\n",
    "                        ('state', 'action', 'next_state', 'reward'))\n",
    "\n",
    "\n",
    "class ReplayMemory(object):\n",
    "\n",
    "    def __init__(self, capacity):\n",
    "        self.memory = deque([], maxlen=capacity)\n",
    "\n",
    "    def push(self, *args):\n",
    "        \"\"\"Save a transition\"\"\"\n",
    "        self.memory.append(Transition(*args))\n",
    "\n",
    "    def sample(self, batch_size):\n",
    "        return random.sample(self.memory, batch_size)\n",
    "\n",
    "    def __len__(self):\n",
    "        return len(self.memory)"
   ]
  },
  {
   "cell_type": "code",
   "execution_count": 8,
   "metadata": {},
   "outputs": [],
   "source": [
    "class BLOCK(nn.Module):\n",
    "\n",
    "    def __init__(self, n_observations, n_actions):\n",
    "        super(BLOCK, self).__init__()\n",
    "        self.layer1 = nn.Linear(n_observations, 64)\n",
    "        self.layer2 = nn.Linear(64, 128)\n",
    "        self.layer3 = nn.Linear(128, 32)\n",
    "        self.layer4 = nn.Linear(32, n_actions)\n",
    "\n",
    "    def forward(self, x):\n",
    "        x = F.tanh(self.layer1(x))\n",
    "        x = F.gelu(self.layer2(x))\n",
    "        x = F.tanh(self.layer3(x))\n",
    "        return self.layer4(x)\n",
    "\n",
    "class DQN(nn.Module): # you can customize this to your liking\n",
    "\n",
    "    def __init__(self, n_observations, n_actions):\n",
    "        super(DQN, self).__init__()\n",
    "        self.block1 = BLOCK(n_observations, n_actions)\n",
    "        self.block2 = BLOCK(n_observations, n_actions)\n",
    "        self.block3 = BLOCK(n_observations, n_actions)\n",
    "        self.block4 = BLOCK(n_observations, n_actions)\n",
    "        self.fusion = nn.Linear(4*n_actions, n_actions)\n",
    "\n",
    "    def forward(self, x):\n",
    "        x1 = self.block1(x)\n",
    "        x2 = self.block2(x)\n",
    "        x3 = self.block3(x)\n",
    "        x4 = self.block4(x)\n",
    "        x = torch.cat((x1,x2,x3,x4), dim=1)\n",
    "        return F.softmax(self.fusion(x), dim=1)"
   ]
  },
  {
   "cell_type": "code",
   "execution_count": 9,
   "metadata": {},
   "outputs": [],
   "source": [
    "# BATCH_SIZE is the number of transitions sampled from the replay buffer\n",
    "# GAMMA is the discount factor as mentioned in the previous section\n",
    "# EPS_START is the starting value of epsilon\n",
    "# EPS_END is the final value of epsilon\n",
    "# EPS_DECAY controls the rate of exponential decay of epsilon, higher means a slower decay\n",
    "# TAU is the update rate of the target network\n",
    "# LR is the learning rate of the ``AdamW`` optimizer\n",
    "# MEM_SIZE is the capacity of the replay buffer\n",
    "BATCH_SIZE = 1024 # change to 1024, original is 128\n",
    "GAMMA = 0.9 # change to 0.9, original is 0.99\n",
    "EPS_START = 0.9\n",
    "EPS_END = 0.05\n",
    "EPS_DECAY = 1000\n",
    "TAU = 0.005\n",
    "LR = 1e-4\n",
    "MEM_SIZE = 300000\n",
    "\n",
    "# Get number of actions from gym action space\n",
    "n_actions = env.action_space.n\n",
    "# Get the number of state observations\n",
    "state, info = env.reset()\n",
    "n_observations = len(state)\n",
    "\n",
    "policy_net = DQN(n_observations, n_actions).to(device)\n",
    "target_net = DQN(n_observations, n_actions).to(device)\n",
    "target_net.load_state_dict(policy_net.state_dict())\n",
    "\n",
    "optimizer = optim.AdamW(policy_net.parameters(), lr=LR, amsgrad=True)\n",
    "memory = ReplayMemory(MEM_SIZE)\n",
    "\n",
    "\n",
    "steps_done = 0\n",
    "\n",
    "\n",
    "def select_action(state):\n",
    "    global steps_done\n",
    "    sample = random.random()\n",
    "    eps_threshold = EPS_END + (EPS_START - EPS_END) * \\\n",
    "        math.exp(-1. * steps_done / EPS_DECAY)\n",
    "    steps_done += 1\n",
    "    if sample > eps_threshold:\n",
    "        with torch.no_grad():\n",
    "            # t.max(1) will return the largest column value of each row.\n",
    "            # second column on max result is index of where max element was\n",
    "            # found, so we pick action with the larger expected reward.\n",
    "            return policy_net(state).max(1)[1].view(1, 1)\n",
    "    else:\n",
    "        return torch.tensor([[env.action_space.sample()]], device=device, dtype=torch.long)\n",
    "\n",
    "\n",
    "episode_durations = []\n",
    "\n",
    "\n",
    "def plot_durations(show_result=False):\n",
    "    plt.figure(1)\n",
    "    durations_t = torch.tensor(episode_durations, dtype=torch.float)\n",
    "    if show_result:\n",
    "        plt.title('Result')\n",
    "    else:\n",
    "        plt.clf()\n",
    "        plt.title('Training...')\n",
    "    plt.xlabel('Episode')\n",
    "    plt.ylabel('Return %')\n",
    "    plt.plot(durations_t.numpy())\n",
    "    # Take 100 episode averages and plot them too\n",
    "    if len(durations_t) >= 100:\n",
    "        means = durations_t.unfold(0, 100, 1).mean(1).view(-1)\n",
    "        means = torch.cat((torch.zeros(99), means))\n",
    "        plt.plot(means.numpy())\n",
    "    if show_result:\n",
    "        plt.savefig('result.png')\n",
    "    plt.pause(0.001)  # pause a bit so that plots are updated\n",
    "    if is_ipython:\n",
    "        if not show_result:\n",
    "            display.display(plt.gcf())\n",
    "            display.clear_output(wait=True)\n",
    "        else:\n",
    "            display.display(plt.gcf())"
   ]
  },
  {
   "cell_type": "code",
   "execution_count": 10,
   "metadata": {},
   "outputs": [],
   "source": [
    "def optimize_model():\n",
    "    if len(memory) < BATCH_SIZE:\n",
    "        return\n",
    "    transitions = memory.sample(BATCH_SIZE)\n",
    "    # Transpose the batch (see https://stackoverflow.com/a/19343/3343043 for\n",
    "    # detailed explanation). This converts batch-array of Transitions\n",
    "    # to Transition of batch-arrays.\n",
    "    batch = Transition(*zip(*transitions))\n",
    "\n",
    "    # Compute a mask of non-final states and concatenate the batch elements\n",
    "    # (a final state would've been the one after which simulation ended)\n",
    "    non_final_mask = torch.tensor(tuple(map(lambda s: s is not None,\n",
    "                                          batch.next_state)), device=device, dtype=torch.bool)\n",
    "    non_final_next_states = torch.cat([s for s in batch.next_state\n",
    "                                                if s is not None])\n",
    "    state_batch = torch.cat(batch.state)\n",
    "    action_batch = torch.cat(batch.action)\n",
    "    reward_batch = torch.cat(batch.reward)\n",
    "\n",
    "    # Compute Q(s_t, a) - the model computes Q(s_t), then we select the\n",
    "    # columns of actions taken. These are the actions which would've been taken\n",
    "    # for each batch state according to policy_net\n",
    "    state_action_values = policy_net(state_batch).gather(1, action_batch)\n",
    "\n",
    "    # Compute V(s_{t+1}) for all next states.\n",
    "    # Expected values of actions for non_final_next_states are computed based\n",
    "    # on the \"older\" target_net; selecting their best reward with max(1)[0].\n",
    "    # This is merged based on the mask, such that we'll have either the expected\n",
    "    # state value or 0 in case the state was final.\n",
    "    next_state_values = torch.zeros(BATCH_SIZE, device=device)\n",
    "    with torch.no_grad():\n",
    "        next_state_values[non_final_mask] = target_net(non_final_next_states).max(1)[0]\n",
    "    # Compute the expected Q values\n",
    "    expected_state_action_values = (next_state_values * GAMMA) + reward_batch\n",
    "\n",
    "    # Compute Huber loss\n",
    "    criterion = nn.SmoothL1Loss()\n",
    "    loss = criterion(state_action_values, expected_state_action_values.unsqueeze(1))\n",
    "\n",
    "    # Optimize the model\n",
    "    optimizer.zero_grad()\n",
    "    loss.backward()\n",
    "    # In-place gradient clipping\n",
    "    torch.nn.utils.clip_grad_value_(policy_net.parameters(), 100)\n",
    "    optimizer.step()"
   ]
  },
  {
   "cell_type": "code",
   "execution_count": 11,
   "metadata": {},
   "outputs": [
    {
     "name": "stdout",
     "output_type": "stream",
     "text": [
      "Complete !\n",
      "Training took 3.1201684912045797 minutes\n"
     ]
    },
    {
     "data": {
      "image/png": "[encoded data removed]",
      "text/plain": [
       "<Figure size 640x480 with 1 Axes>"
      ]
     },
     "metadata": {},
     "output_type": "display_data"
    },
    {
     "data": {
      "text/plain": [
       "<Figure size 640x480 with 0 Axes>"
      ]
     },
     "metadata": {},
     "output_type": "display_data"
    },
    {
     "data": {
      "text/plain": [
       "<Figure size 640x480 with 0 Axes>"
      ]
     },
     "metadata": {},
     "output_type": "display_data"
    }
   ],
   "source": [
    "if torch.cuda.is_available():\n",
    "    num_episodes = 15\n",
    "else:\n",
    "    num_episodes = 5\n",
    "\n",
    "start_time = time()\n",
    "\n",
    "for i_episode in range(num_episodes):\n",
    "    # Initialize the environment and get it's state\n",
    "    state, info = env.reset()\n",
    "    state = torch.tensor(state, dtype=torch.float32, device=device).unsqueeze(0)\n",
    "    for t in count():\n",
    "        action = select_action(state)\n",
    "        observation, reward, terminated, truncated, _ = env.step(action.item())\n",
    "        reward = torch.tensor([reward], device=device)\n",
    "        done = terminated or truncated\n",
    "\n",
    "        if terminated:\n",
    "            next_state = None\n",
    "        else:\n",
    "            next_state = torch.tensor(observation, dtype=torch.float32, device=device).unsqueeze(0)\n",
    "\n",
    "        # Store the transition in memory\n",
    "        memory.push(state, action, next_state, reward)\n",
    "\n",
    "        # Move to the next state\n",
    "        state = next_state\n",
    "\n",
    "        # Perform one step of the optimization (on the policy network)\n",
    "        optimize_model()\n",
    "\n",
    "        # Soft update of the target network's weights\n",
    "        # θ′ ← τ θ + (1 −τ )θ′\n",
    "        target_net_state_dict = target_net.state_dict()\n",
    "        policy_net_state_dict = policy_net.state_dict()\n",
    "        for key in policy_net_state_dict:\n",
    "            target_net_state_dict[key] = policy_net_state_dict[key]*TAU + target_net_state_dict[key]*(1-TAU)\n",
    "        target_net.load_state_dict(target_net_state_dict)\n",
    "\n",
    "        if done:\n",
    "            Portfolio_Return:str = env.unwrapped.get_metrics()['Portfolio Return']\n",
    "            episode_durations.append(float(Portfolio_Return.replace(\"%\",\"\")))\n",
    "            plot_durations()\n",
    "            break\n",
    "\n",
    "end_time = time()\n",
    "print('Complete !')\n",
    "print(f'Training took {(end_time - start_time)/60} minutes')\n",
    "plot_durations(show_result=True)\n",
    "\n",
    "plt.ioff()\n",
    "plt.show()"
   ]
  },
  {
   "cell_type": "code",
   "execution_count": 12,
   "metadata": {},
   "outputs": [],
   "source": [
    "# At the end of the episode you want to render\n",
    "# env.save_for_render(dir = \"render_logs\")"
   ]
  },
  {
   "cell_type": "code",
   "execution_count": 13,
   "metadata": {},
   "outputs": [],
   "source": [
    "# from gym_trading_env.renderer import Renderer\n",
    "# renderer = Renderer(render_logs_dir=\"render_logs\")\n",
    "# renderer.run()"
   ]
  },
  {
   "cell_type": "code",
   "execution_count": 14,
   "metadata": {},
   "outputs": [
    {
     "data": {
      "image/png": "[encoded data removed]",
      "text/plain": [
       "<Figure size 640x480 with 1 Axes>"
      ]
     },
     "metadata": {},
     "output_type": "display_data"
    }
   ],
   "source": [
    "reward_history = env.unwrapped.historical_info['reward']\n",
    "plt.plot(reward_history)\n",
    "plt.show()"
   ]
  },
  {
   "cell_type": "code",
   "execution_count": 15,
   "metadata": {},
   "outputs": [],
   "source": [
    "template = \"\"\"\n",
    "====================\n",
    "Training Complete\n",
    "====================\n",
    "\n",
    "Portfolio Return: {return_value} %\n",
    "Training Time: {time} minutes\n",
    "\"\"\"\n",
    "\n",
    "\n",
    "if DISCORD_WEBHOOK_URL:\n",
    "    import requests\n",
    "\n",
    "    # Text result\n",
    "\n",
    "    \n",
    "\n",
    "    mertics_metadata:dict = env.unwrapped.get_metrics()\n",
    "    mertics_metadata.pop('Portfolio Return')\n",
    "    mertics_data = [f\"{key}: {value}\" for key, value in mertics_metadata.items()]\n",
    "\n",
    "    template += \"\\n\".join(mertics_data)\n",
    "\n",
    "    data = {\n",
    "        \"content\": template.format(\n",
    "            return_value = Portfolio_Return.replace(\"%\",\"\"),\n",
    "            time = (end_time - start_time)/60\n",
    "        ),\n",
    "        \"username\": \"ML Training Notification\",\n",
    "        \"avatar_url\": \"https://i.imgur.com/4bY31Fb.jpg\"\n",
    "    }\n",
    "\n",
    "    r = requests.post(DISCORD_WEBHOOK_URL, data=data)\n",
    "\n",
    "    if r.status_code != 204:\n",
    "        print(f\"Discord Webhook returned status code {r.status_code}\")\n",
    "    else:\n",
    "        print(\"Discord Webhook Sent\")"
   ]
  },
  {
   "cell_type": "code",
   "execution_count": 16,
   "metadata": {},
   "outputs": [],
   "source": [
    "template = \"\"\"\n",
    "====================\n",
    "Result Image\n",
    "====================\n",
    "\"\"\"\n",
    "\n",
    "if DISCORD_WEBHOOK_URL:\n",
    "    # image result\n",
    "\n",
    "    files = {\n",
    "        \"file\": (\"result.png\", open(\"result.png\", \"rb\"))\n",
    "    }\n",
    "\n",
    "    data = {\n",
    "        \"content\": template,\n",
    "        \"username\": \"ML Training Notification\",\n",
    "        \"avatar_url\": \"https://i.imgur.com/4bY31Fb.jpg\"\n",
    "    }\n",
    "\n",
    "    r = requests.post(DISCORD_WEBHOOK_URL, data=data, files=files)\n",
    "\n",
    "    if r.status_code != 200:\n",
    "        print(f\"Discord Webhook returned status code {r.status_code}\")\n",
    "    else:\n",
    "        print(\"Discord Webhook Sent\")"
   ]
  }
 ],
 "metadata": {
  "kernelspec": {
   "display_name": "Python 3",
   "language": "python",
   "name": "python3"
  },
  "language_info": {
   "codemirror_mode": {
    "name": "ipython",
    "version": 3
   },
   "file_extension": ".py",
   "mimetype": "text/x-python",
   "name": "python",
   "nbconvert_exporter": "python",
   "pygments_lexer": "ipython3",
   "version": "3.10.11"
  }
 },
 "nbformat": 4,
 "nbformat_minor": 2
}

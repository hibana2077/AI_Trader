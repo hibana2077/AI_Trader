{
 "cells": [
  {
   "cell_type": "code",
   "execution_count": 1,
   "metadata": {},
   "outputs": [],
   "source": [
    "import gymnasium as gym\n",
    "import pandas as pd\n",
    "import numpy as np\n",
    "import pandas_ta as ta\n",
    "import gym_trading_env\n",
    "import datetime\n",
    "import matplotlib\n",
    "import matplotlib.pyplot as plt\n",
    "from gym_trading_env.downloader import download\n",
    "from time import time\n",
    "\n",
    "from stable_baselines3 import A2C"
   ]
  },
  {
   "cell_type": "code",
   "execution_count": 2,
   "metadata": {},
   "outputs": [],
   "source": [
    "# Constants\n",
    "DIR = \"../../data\"\n",
    "SYMBOL = \"SUI/USDT\" # you can change to any other symbol\n",
    "TIMEFRAME = \"5m\" # 5m 15m 1h 4h 1d 1w 1M\n",
    "EXCHANGE = \"binance\" # bitget binance bitfinex bitmex bitstamp coinbasepro huobi kraken kucoin okex\n",
    "DISCORD_WEBHOOK_URL = \"\""
   ]
  },
  {
   "cell_type": "code",
   "execution_count": 3,
   "metadata": {},
   "outputs": [
    {
     "name": "stdout",
     "output_type": "stream",
     "text": [
      "SUI/USDT downloaded from binance and stored at ../../data/binance-SUIUSDT-5m.pkl\n"
     ]
    }
   ],
   "source": [
    "# Download BTC/USDT historical data from Binance and stores it to directory ./data/binance-BTCUSDT-1h.pkl\n",
    "download(exchange_names = [EXCHANGE],\n",
    "    symbols= [SYMBOL],\n",
    "    timeframe= TIMEFRAME,\n",
    "    dir = DIR,\n",
    "    since= datetime.datetime(year= 2023, month= 11, day= 11),\n",
    ")\n",
    "# Import your fresh data\n",
    "df = pd.read_pickle(DIR+\"/\"+EXCHANGE+\"-\"+SYMBOL.replace(\"/\",\"\")+\"-\"+TIMEFRAME+\".pkl\")"
   ]
  },
  {
   "cell_type": "code",
   "execution_count": 4,
   "metadata": {},
   "outputs": [],
   "source": [
    "# Handle more feature\n",
    "df['feature_open'] = df['open']\n",
    "df['feature_high'] = df['high']\n",
    "df['feature_low'] = df['low']\n",
    "df['feature_close'] = df['close']\n",
    "df['feature_volume'] = df['volume']\n",
    "df['feature_close_pct_change'] = df['close'].pct_change()\n",
    "df['feature_volume_pct_change'] = df['volume'].pct_change()\n",
    "df['feature_shift_1_close'] = df['close'].shift(1)\n",
    "df['feature_shift_1_open'] = df['open'].shift(1)\n",
    "df['feature_shift_1_volume'] = df['volume'].shift(1)\n",
    "df['feature_shift_2_close'] = df['close'].shift(2)\n",
    "df['feature_shift_2_open'] = df['open'].shift(2)\n",
    "df['feature_shift_2_volume'] = df['volume'].shift(2)\n",
    "df['feature_shift_3_close'] = df['close'].shift(3)\n",
    "df['feature_shift_3_open'] = df['open'].shift(3)\n",
    "df['feature_shift_3_volume'] = df['volume'].shift(3)\n",
    "df['feature_shift_4_close'] = df['close'].shift(4)\n",
    "df['feature_shift_4_open'] = df['open'].shift(4)\n",
    "df['feature_shift_4_volume'] = df['volume'].shift(4)\n",
    "df['feature_shift_5_close'] = df['close'].shift(5)\n",
    "df['feature_shift_5_open'] = df['open'].shift(5)\n",
    "df['feature_shift_5_volume'] = df['volume'].shift(5)\n",
    "df['feature_LONGLINE'] = df.ta.cdl_pattern(name=\"longline\")['CDL_LONGLINE']\n",
    "df['feature_HIKKAKE'] = df.ta.cdl_pattern(name=\"hikkake\")['CDL_HIKKAKE']\n",
    "df['feature_HARAMICROSS'] = df.ta.cdl_pattern(name=\"haramicross\")['CDL_HARAMICROSS']\n",
    "temp = df.ta.macd()\n",
    "df['feature_MACD'] = temp['MACD_12_26_9']   \n",
    "df['feature_MACD_SIGNAL'] = temp['MACDs_12_26_9']\n",
    "df['feature_MACD_HIST'] = temp['MACDh_12_26_9']\n",
    "df['feature_RSI'] = df.ta.rsi()\n",
    "df['feature_VWAP'] = df.ta.vwap()\n",
    "df['feature_MASSI'] = df.ta.massi()\n",
    "df['feature_ATR'] = df.ta.atr()\n",
    "df['feature_CKSPL'] = df.ta.cksp()['CKSPl_10_3_20']\n",
    "df['feature_CKSPS'] = df.ta.cksp()['CKSPs_10_3_20']\n",
    "df['feature_ADX'] = df.ta.adx()['ADX_14']\n",
    "df = df.drop(columns=['date_close'])\n",
    "df = df.dropna()"
   ]
  },
  {
   "cell_type": "code",
   "execution_count": 5,
   "metadata": {},
   "outputs": [],
   "source": [
    "def reward_func(history):\n",
    "    # history is a list of actions\n",
    "    # return a reward value\n",
    "    last_reward = history['reward', -1] # change + reward\n",
    "    reward_score = np.log(history[\"portfolio_valuation\", -1] / history[\"portfolio_valuation\", -2]) \n",
    "    if reward_score > 0:reward_score += reward_score * 0.5\n",
    "    else:reward_score -= reward_score * 0.1\n",
    "    return reward_score + last_reward"
   ]
  },
  {
   "cell_type": "code",
   "execution_count": 6,
   "metadata": {},
   "outputs": [
    {
     "data": {
      "text/plain": [
       "<contextlib.ExitStack at 0x2374be13d60>"
      ]
     },
     "execution_count": 6,
     "metadata": {},
     "output_type": "execute_result"
    }
   ],
   "source": [
    "# need to switch to custom env\n",
    "env = gym.make(\"TradingEnv\", df = df, positions = [-1,-0.8,-0.6,-0.4,-0.2,0,0.2,0.4,0.6,0.8,1], initial_position= 0, trading_fees = 0.02/100, reward_function = reward_func)\n",
    "\n",
    "env.unwrapped.add_metric('Position Changes', lambda history : np.sum(np.diff(history['position']) != 0) )\n",
    "env.unwrapped.add_metric('Episode Lenght', lambda history : len(history['position']) )\n",
    "env.unwrapped.add_metric('Win Rate', lambda history : np.sum(history['reward'] > 0) / len(history['reward']) )\n",
    "\n",
    "# set up matplotlib\n",
    "is_ipython = 'inline' in matplotlib.get_backend()\n",
    "if is_ipython:\n",
    "    from IPython import display\n",
    "\n",
    "plt.ion()"
   ]
  },
  {
   "cell_type": "code",
   "execution_count": 7,
   "metadata": {},
   "outputs": [],
   "source": [
    "from stable_baselines3.common.callbacks import BaseCallback\n",
    "\n",
    "history = {\n",
    "    \"portfolio_return\": [],\n",
    "    \"win rate\": [],\n",
    "    \"position changes\": [],\n",
    "}\n",
    "\n",
    "class CustomCallback(BaseCallback):\n",
    "    def __init__(self, verbose=0):\n",
    "        super(CustomCallback, self).__init__(verbose)\n",
    "\n",
    "    def _on_step(self) -> bool:\n",
    "        if 'done' in self.locals and self.locals['done']:\n",
    "            history['portfolio_return'].append(float(env.unwrapped.get_metrics()['Portfolio Return'].replace(\"%\",\"\")))\n",
    "            history['win rate'].append(env.unwrapped.get_metrics()['Win Rate'])\n",
    "            history['position changes'].append(env.unwrapped.get_metrics()['Position Changes'])\n",
    "        return True\n"
   ]
  },
  {
   "cell_type": "code",
   "execution_count": 8,
   "metadata": {},
   "outputs": [
    {
     "name": "stdout",
     "output_type": "stream",
     "text": [
      "Market Return : 17.42%   |   Portfolio Return : -60.48%   |   Position Changes : 3751   |   Episode Lenght : 4270   |   Win Rate : 0.4278688524590164   |   \n",
      "Market Return : 17.42%   |   Portfolio Return : -50.78%   |   Position Changes : 3296   |   Episode Lenght : 4270   |   Win Rate : 0.46533957845433255   |   \n",
      "Market Return : 17.42%   |   Portfolio Return : -39.78%   |   Position Changes : 1797   |   Episode Lenght : 4270   |   Win Rate : 0.4791569086651054   |   \n",
      "Market Return : 17.42%   |   Portfolio Return : -40.23%   |   Position Changes : 1587   |   Episode Lenght : 4270   |   Win Rate : 0.4793911007025761   |   \n",
      "Market Return : 17.42%   |   Portfolio Return : -29.57%   |   Position Changes : 1169   |   Episode Lenght : 4270   |   Win Rate : 0.48149882903981267   |   \n",
      "Market Return : 17.42%   |   Portfolio Return : -32.98%   |   Position Changes : 1475   |   Episode Lenght : 4270   |   Win Rate : 0.47704918032786886   |   \n",
      "Market Return : 17.42%   |   Portfolio Return : -30.97%   |   Position Changes : 542   |   Episode Lenght : 4270   |   Win Rate : 0.48384074941451993   |   \n",
      "Market Return : 17.42%   |   Portfolio Return : -22.02%   |   Position Changes : 58   |   Episode Lenght : 4270   |   Win Rate : 0.4864168618266979   |   \n",
      "Market Return : 17.42%   |   Portfolio Return : -19.27%   |   Position Changes : 9   |   Episode Lenght : 4270   |   Win Rate : 0.48711943793911006   |   \n",
      "Market Return : 17.42%   |   Portfolio Return : -18.15%   |   Position Changes : 5   |   Episode Lenght : 4270   |   Win Rate : 0.48758782201405154   |   \n",
      "Market Return : 17.42%   |   Portfolio Return : -17.02%   |   Position Changes : 7   |   Episode Lenght : 4270   |   Win Rate : 0.48758782201405154   |   \n",
      "Market Return : 17.42%   |   Portfolio Return : -16.15%   |   Position Changes : 13   |   Episode Lenght : 4270   |   Win Rate : 0.48758782201405154   |   \n",
      "Market Return : 17.42%   |   Portfolio Return : -16.55%   |   Position Changes : 3   |   Episode Lenght : 4270   |   Win Rate : 0.48758782201405154   |   \n",
      "Market Return : 17.42%   |   Portfolio Return : -17.83%   |   Position Changes : 9   |   Episode Lenght : 4270   |   Win Rate : 0.48758782201405154   |   \n",
      "Market Return : 17.42%   |   Portfolio Return : -17.44%   |   Position Changes : 1   |   Episode Lenght : 4270   |   Win Rate : 0.48758782201405154   |   \n",
      "Market Return : 17.42%   |   Portfolio Return : -17.44%   |   Position Changes : 1   |   Episode Lenght : 4270   |   Win Rate : 0.48758782201405154   |   \n",
      "Market Return : 17.42%   |   Portfolio Return : -16.17%   |   Position Changes : 5   |   Episode Lenght : 4270   |   Win Rate : 0.48735362997658077   |   \n",
      "Market Return : 17.42%   |   Portfolio Return : -16.16%   |   Position Changes : 3   |   Episode Lenght : 4270   |   Win Rate : 0.48758782201405154   |   \n",
      "Market Return : 17.42%   |   Portfolio Return : -17.90%   |   Position Changes : 3   |   Episode Lenght : 4270   |   Win Rate : 0.48758782201405154   |   \n",
      "Market Return : 17.42%   |   Portfolio Return : -17.44%   |   Position Changes : 1   |   Episode Lenght : 4270   |   Win Rate : 0.48758782201405154   |   \n",
      "Market Return : 17.42%   |   Portfolio Return : -17.44%   |   Position Changes : 1   |   Episode Lenght : 4270   |   Win Rate : 0.48758782201405154   |   \n",
      "Market Return : 17.42%   |   Portfolio Return : -16.56%   |   Position Changes : 3   |   Episode Lenght : 4270   |   Win Rate : 0.48758782201405154   |   \n",
      "Market Return : 17.42%   |   Portfolio Return : -17.44%   |   Position Changes : 1   |   Episode Lenght : 4270   |   Win Rate : 0.48758782201405154   |   \n"
     ]
    },
    {
     "data": {
      "text/plain": [
       "<stable_baselines3.a2c.a2c.A2C at 0x2374be11060>"
      ]
     },
     "execution_count": 8,
     "metadata": {},
     "output_type": "execute_result"
    }
   ],
   "source": [
    "model = A2C('MlpPolicy', env, verbose=0)\n",
    "model.learn(total_timesteps=100000, callback=CustomCallback())"
   ]
  },
  {
   "cell_type": "code",
   "execution_count": 9,
   "metadata": {},
   "outputs": [
    {
     "data": {
      "image/png": "[encoded data removed]",
      "text/plain": [
       "<Figure size 1500x500 with 1 Axes>"
      ]
     },
     "metadata": {},
     "output_type": "display_data"
    }
   ],
   "source": [
    "# Plotting\n",
    "plt.figure(figsize=(15,5))\n",
    "plt.plot(history['portfolio_return'])\n",
    "plt.title('Portfolio Return')\n",
    "plt.xlabel('Episode')\n",
    "plt.ylabel('Return')\n",
    "plt.show()"
   ]
  },
  {
   "cell_type": "code",
   "execution_count": 10,
   "metadata": {},
   "outputs": [
    {
     "ename": "AttributeError",
     "evalue": "'numpy.ndarray' object has no attribute 'plot'",
     "output_type": "error",
     "traceback": [
      "\u001b[1;31m---------------------------------------------------------------------------\u001b[0m",
      "\u001b[1;31mAttributeError\u001b[0m                            Traceback (most recent call last)",
      "\u001b[1;32mc:\\Users\\hiban\\Desktop\\code space\\AI_Trader\\main\\test\\a2c.ipynb 儲存格 10\u001b[0m line \u001b[0;36m1\n\u001b[1;32m----> <a href='vscode-notebook-cell:/c%3A/Users/hiban/Desktop/code%20space/AI_Trader/main/test/a2c.ipynb#X25sZmlsZQ%3D%3D?line=0'>1</a>\u001b[0m env\u001b[39m.\u001b[39;49munwrapped\u001b[39m.\u001b[39;49mhistorical_info[\u001b[39m'\u001b[39;49m\u001b[39mreward\u001b[39;49m\u001b[39m'\u001b[39;49m]\u001b[39m.\u001b[39;49mplot(figsize\u001b[39m=\u001b[39m(\u001b[39m15\u001b[39m,\u001b[39m5\u001b[39m))\n",
      "\u001b[1;31mAttributeError\u001b[0m: 'numpy.ndarray' object has no attribute 'plot'"
     ]
    }
   ],
   "source": [
    "history_rewards = env.unwrapped.historical_info['reward']\n",
    "plt.figure(figsize=(15,5))\n",
    "plt.plot(history_rewards)\n",
    "plt.title('Rewards')\n",
    "plt.xlabel('Episode')\n",
    "plt.ylabel('Reward')\n",
    "plt.show()"
   ]
  },
  {
   "cell_type": "code",
   "execution_count": null,
   "metadata": {},
   "outputs": [],
   "source": [
    "plt.figure(figsize=(15,5))\n",
    "plt.plot(history['win rate'])\n",
    "plt.title('Win Rate')\n",
    "plt.xlabel('Episode')\n",
    "plt.ylabel('Win Rate')\n",
    "plt.show()"
   ]
  },
  {
   "cell_type": "code",
   "execution_count": null,
   "metadata": {},
   "outputs": [],
   "source": [
    "plt.figure(figsize=(15,5))\n",
    "plt.plot(history['position changes'])\n",
    "plt.title('Position Changes')\n",
    "plt.xlabel('Episode')\n",
    "plt.ylabel('Position Changes')\n",
    "plt.show()"
   ]
  },
  {
   "cell_type": "code",
   "execution_count": null,
   "metadata": {},
   "outputs": [],
   "source": [
    "template = \"\"\"\n",
    "====================\n",
    "|  AI Trading Bot  |\n",
    "====================\n",
    "Training Complete\n",
    "====================\n",
    "\n",
    "Trading Symbol: {symbol}\n",
    "Timeframe: {timeframe}\n",
    "Exchange: {exchange}\n",
    "Portfolio Return: {return_value} %\n",
    "Training Time: {time} minutes\n",
    "\"\"\"\n",
    "\n",
    "\n",
    "if DISCORD_WEBHOOK_URL:\n",
    "    import requests\n",
    "\n",
    "    # Text result\n",
    "\n",
    "    mertics_metadata:dict = env.unwrapped.get_metrics()\n",
    "    mertics_metadata.pop('Portfolio Return')\n",
    "    mertics_data = [f\"{key}: {value}\" for key, value in mertics_metadata.items()]\n",
    "\n",
    "    template += \"\\n\".join(mertics_data)\n",
    "\n",
    "    data = {\n",
    "        \"content\": template.format(\n",
    "            return_value = Portfolio_Return.replace(\"%\",\"\"),\n",
    "            time = (end_time - start_time)/60,\n",
    "            symbol = SYMBOL,\n",
    "            timeframe = TIMEFRAME,\n",
    "            exchange = EXCHANGE\n",
    "        ),\n",
    "        \"username\": \"AI Trader Notification\",\n",
    "        \"avatar_url\": \"https://i.imgur.com/4bY31Fb.jpg\"\n",
    "    }\n",
    "\n",
    "    r = requests.post(DISCORD_WEBHOOK_URL, data=data)\n",
    "\n",
    "    if r.status_code != 204:\n",
    "        print(f\"Discord Webhook returned status code {r.status_code}\")\n",
    "    else:\n",
    "        print(\"Discord Webhook Sent\")"
   ]
  },
  {
   "cell_type": "code",
   "execution_count": null,
   "metadata": {},
   "outputs": [],
   "source": [
    "template = \"\"\"\n",
    "====================\n",
    "Result Image\n",
    "====================\n",
    "\"\"\"\n",
    "\n",
    "if DISCORD_WEBHOOK_URL:\n",
    "    # image result\n",
    "\n",
    "    files = {\n",
    "        \"file\": (\"result.png\", open(\"result.png\", \"rb\"))\n",
    "    }\n",
    "\n",
    "    data = {\n",
    "        \"content\": template,\n",
    "        \"username\": \"AI Trader Notification\",\n",
    "        \"avatar_url\": \"https://i.imgur.com/4bY31Fb.jpg\"\n",
    "    }\n",
    "\n",
    "    r = requests.post(DISCORD_WEBHOOK_URL, data=data, files=files)\n",
    "\n",
    "    if r.status_code != 200:\n",
    "        print(f\"Discord Webhook returned status code {r.status_code}\")\n",
    "    else:\n",
    "        print(\"Discord Webhook Sent\")"
   ]
  }
 ],
 "metadata": {
  "kernelspec": {
   "display_name": "Python 3",
   "language": "python",
   "name": "python3"
  },
  "language_info": {
   "codemirror_mode": {
    "name": "ipython",
    "version": 3
   },
   "file_extension": ".py",
   "mimetype": "text/x-python",
   "name": "python",
   "nbconvert_exporter": "python",
   "pygments_lexer": "ipython3",
   "version": "3.10.11"
  }
 },
 "nbformat": 4,
 "nbformat_minor": 2
}
